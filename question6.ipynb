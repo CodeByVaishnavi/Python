{
 "cells": [
  {
   "cell_type": "code",
   "execution_count": 1,
   "id": "c2638d83-4032-4eda-b9f4-6a307d4bf7e2",
   "metadata": {},
   "outputs": [
    {
     "name": "stdin",
     "output_type": "stream",
     "text": [
      "Enter your date of birth (DD-MM-YYYY):  30-05-2002\n"
     ]
    },
    {
     "name": "stdout",
     "output_type": "stream",
     "text": [
      "You are eligible to create an account.\n"
     ]
    }
   ],
   "source": [
    "from datetime import datetime, timedelta\n",
    "\n",
    "def validate_dob(dob):\n",
    "    try:\n",
    "        dob_date = datetime.strptime(dob, \"%d-%m-%Y\")\n",
    "        today = datetime.today()\n",
    "        age = (today - dob_date).days // 365\n",
    "        \n",
    "        if age > 16:\n",
    "            return True\n",
    "        elif age == 16:\n",
    "            next_birthday = dob_date.replace(year=today.year + 1) if today.month > dob_date.month or (today.month == dob_date.month and today.day > dob_date.day) else dob_date.replace(year=today.year)\n",
    "            return next_birthday - today <= timedelta(days=30)\n",
    "        return False\n",
    "    except ValueError:\n",
    "        return False\n",
    "\n",
    "dob_input = input(\"Enter your date of birth (DD-MM-YYYY): \")\n",
    "if validate_dob(dob_input):\n",
    "    print(\"You are eligible to create an account.\")\n",
    "else:\n",
    "    print(\"You are not eligible to create an account.\")"
   ]
  },
  {
   "cell_type": "code",
   "execution_count": null,
   "id": "ea5ab869-43fd-4486-867b-d958ea690473",
   "metadata": {},
   "outputs": [],
   "source": []
  }
 ],
 "metadata": {
  "kernelspec": {
   "display_name": "Python 3 (ipykernel)",
   "language": "python",
   "name": "python3"
  },
  "language_info": {
   "codemirror_mode": {
    "name": "ipython",
    "version": 3
   },
   "file_extension": ".py",
   "mimetype": "text/x-python",
   "name": "python",
   "nbconvert_exporter": "python",
   "pygments_lexer": "ipython3",
   "version": "3.12.7"
  }
 },
 "nbformat": 4,
 "nbformat_minor": 5
}
