{
 "cells": [
  {
   "cell_type": "code",
   "execution_count": 1,
   "id": "0384e9d4-2fa8-43fd-8543-a84eed05ff1e",
   "metadata": {},
   "outputs": [
    {
     "name": "stdin",
     "output_type": "stream",
     "text": [
      "Enter your name:  VAISHNAVI\n"
     ]
    },
    {
     "name": "stdout",
     "output_type": "stream",
     "text": [
      "Welcome, VAISHNAVI!\n"
     ]
    }
   ],
   "source": [
    "# EXCEPTION HANDLING FOR FITNESS APPLICATION REGISTRATION\n",
    "\n",
    "# 1] NAME\n",
    "class InvalidNameError(Exception):\n",
    "    pass\n",
    "\n",
    "def validate_name(name):\n",
    "    \"\"\"Validate the user's name for login.\"\"\"\n",
    "    if not name.strip():\n",
    "        raise InvalidNameError(\"Name cannot be empty.\")\n",
    "    if not name.isalpha():\n",
    "        raise InvalidNameError(\"Name must contain only alphabetic characters.\")\n",
    "    if len(name) < 3:\n",
    "        raise InvalidNameError(\"Name must be at least 3 characters long.\")\n",
    "    if len(name) > 20:\n",
    "        raise InvalidNameError(\"Name cannot exceed 20 characters.\")\n",
    "    return True  \n",
    "\n",
    "try:\n",
    "    user_name = input(\"Enter your name: \")\n",
    "    if validate_name(user_name):\n",
    "        print(f\"Welcome, {user_name}!\")\n",
    "except InvalidNameError as e:\n",
    "    print(e)  "
   ]
  },
  {
   "cell_type": "code",
   "execution_count": 3,
   "id": "29822140-820c-423a-8f4c-8f15f9ef9e81",
   "metadata": {},
   "outputs": [
    {
     "name": "stdin",
     "output_type": "stream",
     "text": [
      "Enter your email:  Vaishnavipawar117@gmail.com\n"
     ]
    },
    {
     "name": "stdout",
     "output_type": "stream",
     "text": [
      "Email validated: Vaishnavipawar117@gmail.com\n",
      "Welcome, VAISHNAVI! Your email is Vaishnavipawar117@gmail.com.\n"
     ]
    }
   ],
   "source": [
    "# 2] email\n",
    "import re\n",
    "\n",
    "\n",
    "class InvalidEmailError(Exception):\n",
    "    \"\"\"Custom exception for invalid email addresses.\"\"\"\n",
    "    pass\n",
    "\n",
    "\n",
    "def validate_email(email):\n",
    "    \"\"\"Validate the user's email address.\"\"\"\n",
    "  \n",
    "    email_pattern = r\"^[a-zA-Z0-9._%+-]+@[a-zA-Z0-9.-]+\\.[a-zA-Z]{2,}$\"\n",
    "    if not email.strip():\n",
    "        raise InvalidEmailError(\"Email cannot be empty.\")\n",
    "    if not re.match(email_pattern, email):\n",
    "        raise InvalidEmailError(\"Invalid email format.\")\n",
    "    return True  \n",
    "\n",
    "try:\n",
    " \n",
    "    user_email = input(\"Enter your email: \")\n",
    "    if validate_email(user_email):\n",
    "        print(f\"Email validated: {user_email}\")\n",
    "        \n",
    "    print(f\"Welcome, {user_name}! Your email is {user_email}.\")\n",
    "\n",
    "except InvalidEmailError as e:\n",
    "    print(f\"Email validation error: {e}\")\n"
   ]
  },
  {
   "cell_type": "code",
   "execution_count": 5,
   "id": "40cc949f-88e3-47cc-a812-d40abd930a0b",
   "metadata": {},
   "outputs": [
    {
     "name": "stdin",
     "output_type": "stream",
     "text": [
      "Enter your password:  VAISH22\n"
     ]
    },
    {
     "name": "stdout",
     "output_type": "stream",
     "text": [
      "Password validation error: Password must be at least 8 characters long, include one uppercase letter, one lowercase letter, one number, and one special character.\n"
     ]
    }
   ],
   "source": [
    "# 3] PASSWORD\n",
    "import re\n",
    "class InvalidPasswordError(Exception):\n",
    "    \"\"\"Custom exception for invalid passwords.\"\"\"\n",
    "    pass\n",
    "def validate_password(password):\n",
    "    \"\"\"Validate the user's password.\"\"\"\n",
    "    # Password must be at least 8 characters, include one uppercase letter, one lowercase letter, one number, and one special character\n",
    "    password_pattern = r\"^(?=.*[A-Z])(?=.*[a-z])(?=.*\\d)(?=.*[@$!%*?&])[A-Za-z\\d@$!%*?&]{8,}$\"\n",
    "    if not password.strip():\n",
    "        raise InvalidPasswordError(\"Password cannot be empty.\")\n",
    "    if not re.match(password_pattern, password):\n",
    "        raise InvalidPasswordError(\n",
    "            \"Password must be at least 8 characters long, include one uppercase letter, one lowercase letter, one number, and one special character.\"\n",
    "        )\n",
    "    return True  \n",
    "try:\n",
    "    \n",
    "    user_password = input(\"Enter your password: \")\n",
    "    if validate_password(user_password):\n",
    "        print(\"Password validated successfully.\")\n",
    "        \n",
    "except InvalidPasswordError as e:\n",
    "    print(f\"Password validation error: {e}\")\n"
   ]
  },
  {
   "cell_type": "code",
   "execution_count": 7,
   "id": "9779ebc2-6264-414e-a146-1b4024b16d89",
   "metadata": {},
   "outputs": [
    {
     "name": "stdin",
     "output_type": "stream",
     "text": [
      "Enter your phone number:  1234567895\n"
     ]
    },
    {
     "name": "stdout",
     "output_type": "stream",
     "text": [
      "Phone number validated: 1234567895\n",
      "your phone number is 1234567895.\n"
     ]
    }
   ],
   "source": [
    "#\n",
    "import re\n",
    "\n",
    "class InvalidPhoneNumberError(Exception):\n",
    "    \"\"\"Custom exception for invalid phone numbers.\"\"\"\n",
    "    pass\n",
    "\n",
    "\n",
    "def validate_phone_number(phone):\n",
    "    \"\"\"Validate the user's phone number.\"\"\"\n",
    "    phone_pattern = r\"^\\+?[1-9]\\d{1,14}$\"\n",
    "    if not phone.strip():\n",
    "        raise InvalidPhoneNumberError(\"Phone number cannot be empty.\")\n",
    "    if not re.match(phone_pattern, phone):\n",
    "        raise InvalidPhoneNumberError(\n",
    "            \"Phone number must be a valid international format\"\n",
    "        )\n",
    "    return True  \n",
    "\n",
    "\n",
    "try:\n",
    "    user_phone = input(\"Enter your phone number: \")\n",
    "    if validate_phone_number(user_phone):\n",
    "        print(f\"Phone number validated: {user_phone}\")\n",
    "        \n",
    "    print(f\"your phone number is {user_phone}.\")\n",
    "\n",
    "except InvalidPhoneNumberError as e:\n",
    "    print(f\"Phone number validation error: {e}\")\n"
   ]
  },
  {
   "cell_type": "code",
   "execution_count": 9,
   "id": "578cdb98-8b0d-40dc-ab4b-6d28f21ab7dc",
   "metadata": {},
   "outputs": [
    {
     "name": "stdin",
     "output_type": "stream",
     "text": [
      "Enter your date of birth (YYYY-MM-DD):  2002-05-30\n"
     ]
    },
    {
     "name": "stdout",
     "output_type": "stream",
     "text": [
      "Date of birth validated: 2002-05-30\n",
      "date of birth is 2002-05-30\n"
     ]
    }
   ],
   "source": [
    "import re\n",
    "from datetime import datetime\n",
    "\n",
    "class InvalidDOBError(Exception):\n",
    "    \"\"\"Custom exception for invalid date of birth.\"\"\"\n",
    "    pass\n",
    "\n",
    "\n",
    "def validate_dob(dob):\n",
    "    \"\"\"Validate the user's date of birth.\"\"\"\n",
    "    dob_format = \"%Y-%m-%d\"  # Expected format: YYYY-MM-DD\n",
    "    if not dob.strip():\n",
    "        raise InvalidDOBError(\"Date of birth cannot be empty.\")\n",
    "    try:\n",
    "        dob_date = datetime.strptime(dob, dob_format)\n",
    "        today = datetime.now()\n",
    "        age = today.year - dob_date.year - ((today.month, today.day) < (dob_date.month, dob_date.day))\n",
    "        if age < 18:\n",
    "            raise InvalidDOBError(\"User must be at least 18 years old.\")\n",
    "        return True\n",
    "    except ValueError:\n",
    "        raise InvalidDOBError(\"Date of birth must be in the format YYYY-MM-DD.\")\n",
    "\n",
    "try:\n",
    "  \n",
    "    user_dob = input(\"Enter your date of birth (YYYY-MM-DD): \")\n",
    "    if validate_dob(user_dob):\n",
    "        print(f\"Date of birth validated: {user_dob}\")\n",
    "        \n",
    "    print(f\"date of birth is {user_dob}\")\n",
    "    \n",
    "\n",
    "except InvalidDOBError as e:\n",
    "    print(f\"Date of birth validation error: {e}\")\n"
   ]
  },
  {
   "cell_type": "code",
   "execution_count": 11,
   "id": "85666f18-5e64-4a1b-b5e2-c8160a0d4812",
   "metadata": {},
   "outputs": [
    {
     "name": "stdin",
     "output_type": "stream",
     "text": [
      "Enter your date of birth (YYYY-MM-DD):  2002-40-63\n"
     ]
    },
    {
     "name": "stdout",
     "output_type": "stream",
     "text": [
      "Date of birth validation error: Date of birth must be in the format YYYY-MM-DD.\n"
     ]
    }
   ],
   "source": [
    "import re\n",
    "from datetime import datetime\n",
    "\n",
    "class InvalidDOBError(Exception):\n",
    "    \"\"\"Custom exception for invalid date of birth.\"\"\"\n",
    "    pass\n",
    "\n",
    "\n",
    "def validate_dob(dob):\n",
    "    \"\"\"Validate the user's date of birth.\"\"\"\n",
    "    dob_format = \"%Y-%m-%d\"  # Expected format: YYYY-MM-DD\n",
    "    if not dob.strip():\n",
    "        raise InvalidDOBError(\"Date of birth cannot be empty.\")\n",
    "    try:\n",
    "        dob_date = datetime.strptime(dob, dob_format)\n",
    "        today = datetime.now()\n",
    "        age = today.year - dob_date.year - ((today.month, today.day) < (dob_date.month, dob_date.day))\n",
    "        if age < 18:\n",
    "            raise InvalidDOBError(\"User must be at least 18 years old.\")\n",
    "        return True\n",
    "    except ValueError:\n",
    "        raise InvalidDOBError(\"Date of birth must be in the format YYYY-MM-DD.\")\n",
    "\n",
    "try:\n",
    "  \n",
    "    user_dob = input(\"Enter your date of birth (YYYY-MM-DD): \")\n",
    "    if validate_dob(user_dob):\n",
    "        print(f\"Date of birth validated: {user_dob}\")\n",
    "        \n",
    "    print(f\"date of birth is {user_dob}\")\n",
    "    \n",
    "\n",
    "except InvalidDOBError as e:\n",
    "    print(f\"Date of birth validation error: {e}\")\n"
   ]
  },
  {
   "cell_type": "code",
   "execution_count": 13,
   "id": "559612dc-e9ad-4f4d-be20-299e94c2f24b",
   "metadata": {},
   "outputs": [
    {
     "name": "stdin",
     "output_type": "stream",
     "text": [
      "Enter your height in cm:  165\n"
     ]
    },
    {
     "name": "stdout",
     "output_type": "stream",
     "text": [
      "Height validated: 165 cm\n",
      "height is 165 cm.\n"
     ]
    }
   ],
   "source": [
    "import re\n",
    "from datetime import datetime\n",
    "\n",
    "\n",
    "\n",
    "class InvalidHeightError(Exception):\n",
    "    \"\"\"Custom exception for invalid height.\"\"\"\n",
    "    pass\n",
    "\n",
    "\n",
    "def validate_height(height):\n",
    "    \"\"\"Validate the user's height.\"\"\"\n",
    "    try:\n",
    "        height = float(height)\n",
    "        if height <= 0 or height > 300:\n",
    "            raise InvalidHeightError(\"Height must be a positive value and realistic (in cm).\")\n",
    "        return True\n",
    "    except ValueError:\n",
    "        raise InvalidHeightError(\"Height must be a valid number (e.g., 170).\")\n",
    "\n",
    "\n",
    "try:\n",
    "\n",
    "    user_height = input(\"Enter your height in cm: \")\n",
    "    if validate_height(user_height):\n",
    "        print(f\"Height validated: {user_height} cm\")\n",
    "        \n",
    "    print(f\"height is {user_height} cm.\")\n",
    "    \n",
    "\n",
    "except InvalidHeightError as e:\n",
    "    print(f\"Height validation error: {e}\")\n"
   ]
  },
  {
   "cell_type": "code",
   "execution_count": 15,
   "id": "969f3908-bfda-4554-a823-a1a52ca86ab0",
   "metadata": {},
   "outputs": [
    {
     "name": "stdin",
     "output_type": "stream",
     "text": [
      "Enter your weight in kg:  60\n"
     ]
    },
    {
     "name": "stdout",
     "output_type": "stream",
     "text": [
      "Weight validated: 60 kg\n",
      "weight is 60 kg.\n"
     ]
    }
   ],
   "source": [
    "import re\n",
    "from datetime import datetime\n",
    "\n",
    "\n",
    "\n",
    "class InvalidWeightError(Exception):\n",
    "    \"\"\"Custom exception for invalid weight.\"\"\"\n",
    "    pass\n",
    "\n",
    "\n",
    "def validate_weight(weight):\n",
    "    \"\"\"Validate the user's weight.\"\"\"\n",
    "    try:\n",
    "        weight = float(weight)\n",
    "        if weight <= 0 or weight > 500:\n",
    "            raise InvalidWeightError(\"Weight must be a positive value and realistic (in kg).\")\n",
    "        return True\n",
    "    except ValueError:\n",
    "        raise InvalidWeightError(\"Weight must be a valid number (e.g., 70).\")\n",
    "\n",
    "try:\n",
    "    \n",
    "    user_weight = input(\"Enter your weight in kg: \")\n",
    "    if validate_weight(user_weight):\n",
    "        print(f\"Weight validated: {user_weight} kg\")\n",
    "        \n",
    "    print(f\"weight is {user_weight} kg.\")\n",
    "    \n",
    "except InvalidWeightError as e:\n",
    "    print(f\"Weight validation error: {e}\")\n"
   ]
  },
  {
   "cell_type": "code",
   "execution_count": null,
   "id": "0e672e0a-c320-49bb-8eb1-c97af5b25d17",
   "metadata": {},
   "outputs": [],
   "source": []
  }
 ],
 "metadata": {
  "kernelspec": {
   "display_name": "Python 3 (ipykernel)",
   "language": "python",
   "name": "python3"
  },
  "language_info": {
   "codemirror_mode": {
    "name": "ipython",
    "version": 3
   },
   "file_extension": ".py",
   "mimetype": "text/x-python",
   "name": "python",
   "nbconvert_exporter": "python",
   "pygments_lexer": "ipython3",
   "version": "3.12.7"
  }
 },
 "nbformat": 4,
 "nbformat_minor": 5
}
