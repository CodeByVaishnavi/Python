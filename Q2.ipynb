{
 "cells": [
  {
   "cell_type": "code",
   "execution_count": 3,
   "id": "afca5019-77d2-4faf-8b29-ffb58fbc2f01",
   "metadata": {},
   "outputs": [
    {
     "name": "stdin",
     "output_type": "stream",
     "text": [
      "Enter the start date (DD-MM-YYYY):  25-12-2024\n",
      "Enter the end date (DD-MM-YYYY):  05-01-2025\n",
      "Enter the task for 25-12-2024:  eat\n",
      "Enter the task for 26-12-2024:  sleep\n",
      "Enter the task for 27-12-2024:  repeat\n"
     ]
    },
    {
     "name": "stdout",
     "output_type": "stream",
     "text": [
      "28-12-2024 is a weekend. No task.\n",
      "29-12-2024 is a weekend. No task.\n"
     ]
    },
    {
     "name": "stdin",
     "output_type": "stream",
     "text": [
      "Enter the task for 30-12-2024:  code\n",
      "Enter the task for 31-12-2024:  code\n",
      "Enter the task for 01-01-2025:  code\n",
      "Enter the task for 02-01-2025:  code\n",
      "Enter the task for 03-01-2025:  practice\n"
     ]
    },
    {
     "name": "stdout",
     "output_type": "stream",
     "text": [
      "04-01-2025 is a weekend. No task.\n",
      "05-01-2025 is a weekend. No task.\n",
      "\n",
      "Tasks:\n",
      "25-12-2024: eat\n",
      "26-12-2024: sleep\n",
      "27-12-2024: repeat\n",
      "30-12-2024: code\n",
      "31-12-2024: code\n",
      "01-01-2025: code\n",
      "02-01-2025: code\n",
      "03-01-2025: practice\n"
     ]
    }
   ],
   "source": [
    "from datetime import datetime, timedelta\n",
    "\n",
    "start_date_input = input(\"Enter the start date (DD-MM-YYYY): \")\n",
    "end_date_input = input(\"Enter the end date (DD-MM-YYYY): \")\n",
    "\n",
    "start_date = datetime.strptime(start_date_input, \"%d-%m-%Y\")\n",
    "end_date = datetime.strptime(end_date_input, \"%d-%m-%Y\")\n",
    "\n",
    "tasks = {}\n",
    "\n",
    "current_date = start_date\n",
    "while current_date <= end_date:\n",
    "    if current_date.weekday() < 5:  \n",
    "        task = input(f\"Enter the task for {current_date.strftime('%d-%m-%Y')}: \")\n",
    "        tasks[current_date.strftime('%d-%m-%Y')] = task\n",
    "    else:  \n",
    "        print(f\"{current_date.strftime('%d-%m-%Y')} is a weekend. No task.\")\n",
    "    current_date += timedelta(days=1)\n",
    "\n",
    "print(\"\\nTasks:\")\n",
    "for date, task in tasks.items():\n",
    "    print(f\"{date}: {task}\")"
   ]
  },
  {
   "cell_type": "code",
   "execution_count": null,
   "id": "3ebb0d52-7e33-4c40-bcb3-6a145b93224e",
   "metadata": {},
   "outputs": [],
   "source": []
  }
 ],
 "metadata": {
  "kernelspec": {
   "display_name": "Python 3 (ipykernel)",
   "language": "python",
   "name": "python3"
  },
  "language_info": {
   "codemirror_mode": {
    "name": "ipython",
    "version": 3
   },
   "file_extension": ".py",
   "mimetype": "text/x-python",
   "name": "python",
   "nbconvert_exporter": "python",
   "pygments_lexer": "ipython3",
   "version": "3.12.7"
  }
 },
 "nbformat": 4,
 "nbformat_minor": 5
}
