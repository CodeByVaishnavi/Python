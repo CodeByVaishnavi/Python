{
 "cells": [
  {
   "cell_type": "code",
   "execution_count": 1,
   "id": "136dd919-c374-48b4-ae95-b9ae4418ff7e",
   "metadata": {},
   "outputs": [
    {
     "name": "stdin",
     "output_type": "stream",
     "text": [
      "Pizza (Price: 379):  2\n"
     ]
    },
    {
     "name": "stdout",
     "output_type": "stream",
     "text": [
      "\n"
     ]
    },
    {
     "name": "stdin",
     "output_type": "stream",
     "text": [
      "Momos (Price: 120):  1\n"
     ]
    },
    {
     "name": "stdout",
     "output_type": "stream",
     "text": [
      "\n"
     ]
    },
    {
     "name": "stdin",
     "output_type": "stream",
     "text": [
      "Dosa (Price: 229):  2\n"
     ]
    },
    {
     "name": "stdout",
     "output_type": "stream",
     "text": [
      "\n"
     ]
    },
    {
     "name": "stdin",
     "output_type": "stream",
     "text": [
      "Blueberry Cheesecake (Price: 250):  5\n"
     ]
    },
    {
     "name": "stdout",
     "output_type": "stream",
     "text": [
      "\n",
      "\n",
      "****************************************\n",
      "               FOOD COURT               \n",
      "              DECCAN, Pune              \n",
      "             (+91) 456-7590             \n",
      "****************************************\n",
      "Item                 Qty            Price\n",
      "****************************************\n",
      "Pizza                2             758.00\n",
      "Momos                1             120.00\n",
      "Dosa                 2             458.00\n",
      "Blueberry Cheesecake 5            1250.00\n",
      "****************************************\n",
      "Total                            2586.00\n",
      "****************************************\n",
      "     Thank You! Please Visit Again!     \n",
      "****************************************\n"
     ]
    }
   ],
   "source": [
    "def print_restaurant_bill():\n",
    "    \n",
    "    restaurant_name = \"FOOD COURT\"\n",
    "    address = \"DECCAN, Pune\"\n",
    "    contact = \"(+91) 456-7590\"\n",
    "\n",
    "\n",
    "    menu_items = [\n",
    "        {\"name\": \"Pizza\", \"price\": 379},\n",
    "        {\"name\": \"Momos\", \"price\": 120},\n",
    "        {\"name\": \"Dosa\", \"price\": 229},\n",
    "        {\"name\": \"Blueberry Cheesecake\", \"price\": 250},\n",
    "    ]\n",
    "\n",
    "    \n",
    "    items = []\n",
    "    for menu_item in menu_items:\n",
    "        quantity = int(input(f\"{menu_item['name']} (Price: {menu_item['price']}): \"))\n",
    "        if quantity > 0:  \n",
    "            items.append({\"name\": menu_item[\"name\"], \"quantity\": quantity, \"price\": menu_item[\"price\"]})\n",
    "        print() \n",
    "\n",
    "\n",
    "    print(\"\\n\" + \"*\" * 40)\n",
    "    print(\"{:^40}\".format(restaurant_name))\n",
    "    print(\"{:^40}\".format(address))\n",
    "    print(\"{:^40}\".format(contact))\n",
    "    print(\"*\" * 40)\n",
    "    print(\"{:<20} {:<10} {:>9}\".format(\"Item\", \"Qty\", \"Price\"))\n",
    "    print(\"*\" * 40)\n",
    "\n",
    "    total = 0\n",
    "    for item in items:\n",
    "        item_total = item[\"quantity\"] * item[\"price\"]\n",
    "        total += item_total\n",
    "        print(\n",
    "            \"{:<20} {:<10} {:>9.2f}\".format(\n",
    "                item[\"name\"], item[\"quantity\"], item_total\n",
    "            )\n",
    "        )\n",
    "\n",
    "\n",
    "    print(\"*\" * 40)\n",
    "    print(\"{:<30} {:>9.2f}\".format(\"Total\", total))\n",
    "    print(\"*\" * 40)\n",
    "    print(\"{:^40}\".format(\"Thank You! Please Visit Again!\"))\n",
    "    print(\"*\" * 40)\n",
    "\n",
    "\n",
    "\n",
    "print_restaurant_bill()\n"
   ]
  },
  {
   "cell_type": "code",
   "execution_count": null,
   "id": "affb5428-192c-4ef0-83e6-d3af5d3cab46",
   "metadata": {},
   "outputs": [],
   "source": []
  }
 ],
 "metadata": {
  "kernelspec": {
   "display_name": "Python 3 (ipykernel)",
   "language": "python",
   "name": "python3"
  },
  "language_info": {
   "codemirror_mode": {
    "name": "ipython",
    "version": 3
   },
   "file_extension": ".py",
   "mimetype": "text/x-python",
   "name": "python",
   "nbconvert_exporter": "python",
   "pygments_lexer": "ipython3",
   "version": "3.12.7"
  }
 },
 "nbformat": 4,
 "nbformat_minor": 5
}
