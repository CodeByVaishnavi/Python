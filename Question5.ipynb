{
 "cells": [
  {
   "cell_type": "code",
   "execution_count": 1,
   "id": "7a960698-1b2f-4233-b17e-7ffb74714f12",
   "metadata": {},
   "outputs": [
    {
     "name": "stdin",
     "output_type": "stream",
     "text": [
      "Enter your name:  vaish\n",
      "Enter your email:  vaishnavi@gmail.com\n",
      "Create a password:  vaishnavi!10\n"
     ]
    },
    {
     "name": "stdout",
     "output_type": "stream",
     "text": [
      "Error: Invalid password. Must be 8-50 characters with one uppercase, one lowercase, one number, and one special character.\n"
     ]
    },
    {
     "name": "stdin",
     "output_type": "stream",
     "text": [
      "Enter your name:  vaish\n",
      "Enter your email:  vaishnavi@gmail.com\n",
      "Create a password:  Vaishnavi@10\n",
      "Enter your phone number:  9764293663\n",
      "Enter your date of birth (DD-MM-YYYY):  30-05-2002\n"
     ]
    },
    {
     "name": "stdout",
     "output_type": "stream",
     "text": [
      "User  data collected successfully: {'Name': 'vaish', 'Email': 'vaishnavi@gmail.com', 'Password': 'Vaishnavi@10', 'Phone': '9764293663', 'DOB': '30-05-2002'}\n"
     ]
    }
   ],
   "source": [
    "import logging\n",
    "from datetime import datetime\n",
    "\n",
    "log_filename = f\"user_data_{datetime.now().strftime('%Y%m%d_%H%M%S')}.log\"\n",
    "\n",
    "logging.basicConfig(\n",
    "    filename=log_filename,\n",
    "    level=logging.INFO,\n",
    "    format=\"%(asctime)s - %(levelname)s - %(message)s\"\n",
    ")\n",
    "\n",
    "validate_name = lambda name: len(name) >= 2 and len(name) <= 80 and name.isalpha()\n",
    "validate_email = lambda email: \"@\" in email and \".\" in email\n",
    "validate_password = lambda password: (\n",
    "    8 <= len(password) <= 50\n",
    "    and any(c.islower() for c in password)\n",
    "    and any(c.isupper() for c in password)\n",
    "    and any(c.isdigit() for c in password)\n",
    "    and any(c in \"@$!%*?&\" for c in password)\n",
    ")\n",
    "validate_phone = lambda phone: phone.isdigit() and len(phone) == 10\n",
    "validate_dob = lambda dob: (\n",
    "    (datetime.today() - datetime.strptime(dob, \"%d-%m-%Y\")).days // 365 >= 16\n",
    ")\n",
    "\n",
    "def log_user_data(user_data):\n",
    "    try:\n",
    "        logging.info(\"New user registered: %s\", user_data)\n",
    "    except Exception as e:\n",
    "        print(f\"Logging error: {e}\")\n",
    "\n",
    "def get_user_input():\n",
    "    while True: \n",
    "        try:\n",
    "            name = input(\"Enter your name: \")\n",
    "            if not validate_name(name):\n",
    "                raise ValueError(\"Invalid name. Must be 2-80 characters long and contain no numbers or special characters.\")\n",
    "            \n",
    "            email = input(\"Enter your email: \")\n",
    "            if not validate_email(email):\n",
    "                raise ValueError(\"Invalid email. Must contain '@' and '.'\")\n",
    "            \n",
    "            password = input(\"Create a password: \")\n",
    "            if not validate_password(password):\n",
    "                raise ValueError(\"Invalid password. Must be 8-50 characters with one uppercase, one lowercase, one number, and one special character.\")\n",
    "            \n",
    "            phone = input(\"Enter your phone number: \")\n",
    "            if not validate_phone(phone):\n",
    "                raise ValueError(\"Invalid phone number. Must be exactly 10 digits.\")\n",
    "            \n",
    "            dob = input(\"Enter your date of birth (DD-MM-YYYY): \")\n",
    "            if not validate_dob(dob):\n",
    "                raise ValueError(\"Invalid date of birth. Must be at least 16 years old.\")\n",
    "            \n",
    "            user_data = {\n",
    "                \"Name\": name,\n",
    "                \"Email\": email,\n",
    "                \"Password\": password,\n",
    "                \"Phone\": phone,\n",
    "                \"DOB\": dob\n",
    "            }\n",
    "            \n",
    "            log_user_data(user_data)\n",
    "            print(\"User  data collected successfully:\", user_data)\n",
    "            break  \n",
    "        \n",
    "        except ValueError as e:\n",
    "            print(f\"Error: {e}\")\n",
    "            continue  \n",
    "        \n",
    "        except Exception as e:\n",
    "            print(f\"An unexpected error occurred: {e}\")\n",
    "            break  \n",
    "\n",
    "get_user_input()"
   ]
  },
  {
   "cell_type": "code",
   "execution_count": null,
   "id": "619f984a-d033-4b69-a428-c03ce76cc621",
   "metadata": {},
   "outputs": [],
   "source": []
  }
 ],
 "metadata": {
  "kernelspec": {
   "display_name": "Python 3 (ipykernel)",
   "language": "python",
   "name": "python3"
  },
  "language_info": {
   "codemirror_mode": {
    "name": "ipython",
    "version": 3
   },
   "file_extension": ".py",
   "mimetype": "text/x-python",
   "name": "python",
   "nbconvert_exporter": "python",
   "pygments_lexer": "ipython3",
   "version": "3.12.7"
  }
 },
 "nbformat": 4,
 "nbformat_minor": 5
}
