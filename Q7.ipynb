{
 "cells": [
  {
   "cell_type": "code",
   "execution_count": 7,
   "id": "be8239b6-bdd1-42a0-a605-48e9dd2c0d23",
   "metadata": {},
   "outputs": [
    {
     "ename": "SyntaxError",
     "evalue": "(unicode error) 'unicodeescape' codec can't decode bytes in position 2-3: truncated \\UXXXXXXXX escape (2176369090.py, line 6)",
     "output_type": "error",
     "traceback": [
      "\u001b[1;36m  Cell \u001b[1;32mIn[7], line 6\u001b[1;36m\u001b[0m\n\u001b[1;33m    small_folder = \"C:\\Users\\\\Vaishnavi\\\\OneDrive\\\\Desktop\\\\PYTHON_ASSIGN\\\\small_size\"\u001b[0m\n\u001b[1;37m                   ^\u001b[0m\n\u001b[1;31mSyntaxError\u001b[0m\u001b[1;31m:\u001b[0m (unicode error) 'unicodeescape' codec can't decode bytes in position 2-3: truncated \\UXXXXXXXX escape\n"
     ]
    }
   ],
   "source": [
    "import os\n",
    "import shutil\n",
    "\n",
    "source_directory = r\"C:\\\\Users\\\\Vaishnavi\\\\OneDrive\\\\Desktop\\\\PYTHON_ASSIGN\"\n",
    "\n",
    "small_folder = \"C:\\Users\\\\Vaishnavi\\\\OneDrive\\\\Desktop\\\\PYTHON_ASSIGN\\\\small_size\"\n",
    "middle_folder = \"\\\\home\\\\user\\\\documents\\\\middle_size\"\n",
    "large_folder = \"\\\\home\\\\user\\\\documents\\\\large_size\"\n",
    "\n",
    "small_size_limit = 1 * 1024 * 1024 \n",
    "middle_size_limit = 10 * 1024 * 1024  \n",
    "\n",
    "os.makedirs(small_folder, exist_ok=True)\n",
    "os.makedirs(middle_folder, exist_ok=True)\n",
    "os.makedirs(large_folder, exist_ok=True)\n",
    "\n",
    "def categorize_files():\n",
    "    for file_name in os.listdir(source_directory):\n",
    "        file_path = os.path.join(source_directory, file_name)\n",
    "        \n",
    "        if os.path.isfile(file_path):\n",
    "            file_size = os.path.getsize(file_path)\n",
    "            \n",
    "            if file_size < small_size_limit:\n",
    "                destination_folder = small_folder\n",
    "            elif file_size >= small_size_limit and file_size < middle_size_limit:\n",
    "                destination_folder = middle_folder\n",
    "            else:\n",
    "                destination_folder = large_folder\n",
    "            \n",
    "            destination_path = os.path.join(destination_folder, file_name)\n",
    "            \n",
    "            try:\n",
    "                if os.path.exists(destination_path):\n",
    "                    name, ext = os.path.splitext(file_name)\n",
    "                    destination_path = os.path.join(destination_folder, name + \"_1\" + ext)\n",
    "                \n",
    "                shutil.move(file_path, destination_path)\n",
    "                print(f\"Moved {file_name} of size {file_size / (1024 * 1024):.2f} MB to {destination_folder}\")\n",
    "            except Exception as e:\n",
    "                print(f\"Error moving {file_name}: {e}\")\n",
    "\n",
    "\n",
    "categorize_files()"
   ]
  },
  {
   "cell_type": "code",
   "execution_count": null,
   "id": "2f9802d0-a741-47bc-b9bc-02242bb76c95",
   "metadata": {},
   "outputs": [],
   "source": []
  }
 ],
 "metadata": {
  "kernelspec": {
   "display_name": "Python 3 (ipykernel)",
   "language": "python",
   "name": "python3"
  },
  "language_info": {
   "codemirror_mode": {
    "name": "ipython",
    "version": 3
   },
   "file_extension": ".py",
   "mimetype": "text/x-python",
   "name": "python",
   "nbconvert_exporter": "python",
   "pygments_lexer": "ipython3",
   "version": "3.12.7"
  }
 },
 "nbformat": 4,
 "nbformat_minor": 5
}
