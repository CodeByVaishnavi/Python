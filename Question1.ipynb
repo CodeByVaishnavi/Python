{
 "cells": [
  {
   "cell_type": "code",
   "execution_count": 1,
   "id": "68f1d80b-c362-4bb1-97ea-4dfe10750ada",
   "metadata": {},
   "outputs": [
    {
     "name": "stdin",
     "output_type": "stream",
     "text": [
      "Enter a list of elements separated by spaces:  1 2\n"
     ]
    },
    {
     "name": "stdout",
     "output_type": "stream",
     "text": [
      "\n",
      "Segregated Lists:\n",
      "Numbers List: [1, 2]\n",
      "Strings List: []\n"
     ]
    }
   ],
   "source": [
    "# Step 1: Ask the user to create a list of mixed elements\n",
    "mixed_list = input(\"Enter a list of elements separated by spaces: \").split()\n",
    "\n",
    "# Step 2: Initialize empty lists for strings and numbers\n",
    "string_list = []\n",
    "number_list = []\n",
    "\n",
    "# Step 3: Loop through the mixed list and segregate elements\n",
    "for item in mixed_list:\n",
    "    if item.isdigit():  # Check if the item is a number\n",
    "        number_list.append(int(item))\n",
    "    else:  # Otherwise, it's a string\n",
    "        string_list.append(item)\n",
    "\n",
    "# Step 4: Print the segregated lists\n",
    "print(\"\\nSegregated Lists:\")\n",
    "print(\"Numbers List:\", number_list)\n",
    "print(\"Strings List:\", string_list)\n"
   ]
  },
  {
   "cell_type": "code",
   "execution_count": 3,
   "id": "97c90f26-1de5-4550-9ee1-c65cc6cb7f24",
   "metadata": {},
   "outputs": [
    {
     "name": "stdin",
     "output_type": "stream",
     "text": [
      "Enter a list of elements separated by spaces:  1 56 48 HI 458 HELLO 45 7 GOOD MORNING 100\n"
     ]
    },
    {
     "name": "stdout",
     "output_type": "stream",
     "text": [
      "\n",
      "Segregated Lists:\n",
      "Numbers List: [1, 56, 48, 458, 45, 7, 100]\n",
      "Strings List: ['HI', 'HELLO', 'GOOD', 'MORNING']\n"
     ]
    }
   ],
   "source": [
    "# Step 1: Ask the user to create a list of mixed elements\n",
    "mixed_list = input(\"Enter a list of elements separated by spaces: \").split()\n",
    "\n",
    "# Step 2: Initialize empty lists for strings and numbers\n",
    "string_list = []\n",
    "number_list = []\n",
    "\n",
    "# Step 3: Loop through the mixed list and segregate elements\n",
    "for item in mixed_list:\n",
    "    if item.isdigit():  # Check if the item is a number\n",
    "        number_list.append(int(item))\n",
    "    else:  # Otherwise, it's a string\n",
    "        string_list.append(item)\n",
    "\n",
    "# Step 4: Print the segregated lists\n",
    "print(\"\\nSegregated Lists:\")\n",
    "print(\"Numbers List:\", number_list)\n",
    "print(\"Strings List:\", string_list)\n"
   ]
  },
  {
   "cell_type": "code",
   "execution_count": null,
   "id": "135b0762-efe8-4505-a22b-b6eba8b0793a",
   "metadata": {},
   "outputs": [],
   "source": []
  }
 ],
 "metadata": {
  "kernelspec": {
   "display_name": "Python 3 (ipykernel)",
   "language": "python",
   "name": "python3"
  },
  "language_info": {
   "codemirror_mode": {
    "name": "ipython",
    "version": 3
   },
   "file_extension": ".py",
   "mimetype": "text/x-python",
   "name": "python",
   "nbconvert_exporter": "python",
   "pygments_lexer": "ipython3",
   "version": "3.12.7"
  }
 },
 "nbformat": 4,
 "nbformat_minor": 5
}
